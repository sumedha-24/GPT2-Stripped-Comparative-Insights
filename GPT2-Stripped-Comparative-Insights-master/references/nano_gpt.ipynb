{
 "cells": [
  {
   "cell_type": "code",
   "execution_count": 1,
   "metadata": {},
   "outputs": [],
   "source": [
    "import urllib.request\n",
    "import os\n",
    "import matplotlib.pyplot as plt"
   ]
  },
  {
   "cell_type": "code",
   "execution_count": 2,
   "metadata": {},
   "outputs": [
    {
     "name": "stdout",
     "output_type": "stream",
     "text": [
      "1115394\n",
      "First Citizen:\n",
      "Before we proceed any further, hear me speak.\n",
      "\n",
      "All:\n",
      "Speak, speak.\n",
      "\n",
      "First Citizen:\n",
      "You\n"
     ]
    }
   ],
   "source": [
    "# download tiny shakespear dataset\n",
    "\n",
    "# uncomment below lines if you want to download dataset from the web\n",
    "# url = 'https://raw.githubusercontent.com/karpathy/char-rnn/master/data/tinyshakespeare/input.txt'\n",
    "# if not os.path.exists(filename):\n",
    "#     urllib.request.urlretrieve(url, filename)\n",
    "#     print('Downloaded %s' % filename)\n",
    "\n",
    "# pull from local folder\n",
    "filename = 'tinyshakespeare.txt'\n",
    "with open(filename, 'r') as f:\n",
    "    text = f.read()\n",
    "\n",
    "print(len(text))\n",
    "print(text[:100])"
   ]
  },
  {
   "cell_type": "code",
   "execution_count": 3,
   "metadata": {},
   "outputs": [
    {
     "name": "stdout",
     "output_type": "stream",
     "text": [
      "length of vocab: 65\n",
      "entire vocabulary: \n",
      " !$&',-.3:;?ABCDEFGHIJKLMNOPQRSTUVWXYZabcdefghijklmnopqrstuvwxyz\n"
     ]
    }
   ],
   "source": [
    "# get vocab\n",
    "vocab = list(sorted(set(text)))\n",
    "vocab_size = len(vocab)\n",
    "print(f'length of vocab: {len(vocab)}')\n",
    "print(f\"entire vocabulary: {''.join(vocab)}\")"
   ]
  },
  {
   "cell_type": "code",
   "execution_count": 4,
   "metadata": {},
   "outputs": [
    {
     "name": "stdout",
     "output_type": "stream",
     "text": [
      "[46, 43, 50, 50, 53, 1, 58, 46, 43, 56, 43, 1, 2]\n",
      "yo whats up\n"
     ]
    }
   ],
   "source": [
    "# character level encoding and decoding\n",
    "stoi = {c: i for i, c in enumerate(vocab)}\n",
    "# itos = {i: c for i, c in enumerate(vocab)}\n",
    "# alternate way of creating decoder func\n",
    "itos = {i: c for c, i in stoi.items()}\n",
    "encode = lambda x: [stoi[c] for c in x]\n",
    "decode = lambda x: ''.join([itos[i] for i in x])\n",
    "print(encode('hello there !'))\n",
    "print(decode(encode('yo whats up')))"
   ]
  },
  {
   "cell_type": "code",
   "execution_count": 5,
   "metadata": {},
   "outputs": [
    {
     "name": "stdout",
     "output_type": "stream",
     "text": [
      "tensor([18, 47, 56, 57, 58,  1, 15, 47, 58, 47])\n"
     ]
    }
   ],
   "source": [
    "import torch\n",
    "# encode full dataset\n",
    "data = torch.tensor(encode(text), dtype=torch.long)\n",
    "print(data[:10])"
   ]
  },
  {
   "cell_type": "code",
   "execution_count": 6,
   "metadata": {},
   "outputs": [
    {
     "name": "stdout",
     "output_type": "stream",
     "text": [
      "train size: 948084, test size: 167310\n"
     ]
    }
   ],
   "source": [
    "# train test split, 85% split\n",
    "train_size = int(0.85 * len(data))\n",
    "train_data = data[:train_size]\n",
    "test_data = data[train_size:]\n",
    "print(f'train size: {len(train_data)}, test size: {len(test_data)}')"
   ]
  },
  {
   "cell_type": "code",
   "execution_count": 7,
   "metadata": {},
   "outputs": [
    {
     "name": "stdout",
     "output_type": "stream",
     "text": [
      "First Citizen:\n",
      "Before we proceed any further, hear me speak.\n",
      "\n",
      "All:\n",
      "Speak, speak.\n",
      "\n",
      "First Citizen:\n",
      "You\n"
     ]
    }
   ],
   "source": [
    "# sanity checking\n",
    "print(decode(train_data.tolist()[:100]))"
   ]
  },
  {
   "cell_type": "code",
   "execution_count": 8,
   "metadata": {},
   "outputs": [
    {
     "name": "stdout",
     "output_type": "stream",
     "text": [
      "tensor([18, 47, 56, 57, 58,  1, 15, 47, 58])\n"
     ]
    }
   ],
   "source": [
    "# create block sizes of 8\n",
    "block_size = 8\n",
    "train_dataset = data[:block_size + 1]\n",
    "print(train_dataset)"
   ]
  },
  {
   "cell_type": "code",
   "execution_count": 9,
   "metadata": {},
   "outputs": [
    {
     "name": "stdout",
     "output_type": "stream",
     "text": [
      "tensor([18, 47, 56, 57, 58,  1, 15, 47])\n",
      "tensor([47, 56, 57, 58,  1, 15, 47, 58])\n",
      "context: tensor([18]), target: 47\n",
      "context: tensor([18, 47]), target: 56\n",
      "context: tensor([18, 47, 56]), target: 57\n",
      "context: tensor([18, 47, 56, 57]), target: 58\n",
      "context: tensor([18, 47, 56, 57, 58]), target: 1\n",
      "context: tensor([18, 47, 56, 57, 58,  1]), target: 15\n",
      "context: tensor([18, 47, 56, 57, 58,  1, 15]), target: 47\n",
      "context: tensor([18, 47, 56, 57, 58,  1, 15, 47]), target: 58\n"
     ]
    }
   ],
   "source": [
    "# show all packed training examples in a sampled batch size\n",
    "x = train_dataset[:block_size]\n",
    "y = train_dataset[1:block_size+1]\n",
    "print(x)\n",
    "print(y)\n",
    "for t in range(block_size):\n",
    "    context = x[:t+1]\n",
    "    target = y[t]\n",
    "    print(f'context: {context}, target: {target}')\n"
   ]
  },
  {
   "cell_type": "code",
   "execution_count": 10,
   "metadata": {},
   "outputs": [
    {
     "name": "stdout",
     "output_type": "stream",
     "text": [
      "tensor([[53, 61, 57, 10,  0, 20, 43,  1],\n",
      "        [39, 41, 43, 42,  1, 58, 46, 43],\n",
      "        [52, 41, 43,  8,  0,  0, 24, 17],\n",
      "        [26, 33, 31, 10,  0, 25, 53, 57]])\n",
      "tensor([[61, 57, 10,  0, 20, 43,  1, 58],\n",
      "        [41, 43, 42,  1, 58, 46, 43,  1],\n",
      "        [41, 43,  8,  0,  0, 24, 17, 27],\n",
      "        [33, 31, 10,  0, 25, 53, 57, 58]])\n",
      "context: tensor([53]), target: 61\n",
      "context: tensor([53, 61]), target: 57\n",
      "context: tensor([53, 61, 57]), target: 10\n",
      "context: tensor([53, 61, 57, 10]), target: 0\n",
      "context: tensor([53, 61, 57, 10,  0]), target: 20\n",
      "context: tensor([53, 61, 57, 10,  0, 20]), target: 43\n",
      "context: tensor([53, 61, 57, 10,  0, 20, 43]), target: 1\n",
      "context: tensor([53, 61, 57, 10,  0, 20, 43,  1]), target: 58\n",
      "context: tensor([39]), target: 41\n",
      "context: tensor([39, 41]), target: 43\n",
      "context: tensor([39, 41, 43]), target: 42\n",
      "context: tensor([39, 41, 43, 42]), target: 1\n",
      "context: tensor([39, 41, 43, 42,  1]), target: 58\n",
      "context: tensor([39, 41, 43, 42,  1, 58]), target: 46\n",
      "context: tensor([39, 41, 43, 42,  1, 58, 46]), target: 43\n",
      "context: tensor([39, 41, 43, 42,  1, 58, 46, 43]), target: 1\n",
      "context: tensor([52]), target: 41\n",
      "context: tensor([52, 41]), target: 43\n",
      "context: tensor([52, 41, 43]), target: 8\n",
      "context: tensor([52, 41, 43,  8]), target: 0\n",
      "context: tensor([52, 41, 43,  8,  0]), target: 0\n",
      "context: tensor([52, 41, 43,  8,  0,  0]), target: 24\n",
      "context: tensor([52, 41, 43,  8,  0,  0, 24]), target: 17\n",
      "context: tensor([52, 41, 43,  8,  0,  0, 24, 17]), target: 27\n",
      "context: tensor([26]), target: 33\n",
      "context: tensor([26, 33]), target: 31\n",
      "context: tensor([26, 33, 31]), target: 10\n",
      "context: tensor([26, 33, 31, 10]), target: 0\n",
      "context: tensor([26, 33, 31, 10,  0]), target: 25\n",
      "context: tensor([26, 33, 31, 10,  0, 25]), target: 53\n",
      "context: tensor([26, 33, 31, 10,  0, 25, 53]), target: 57\n",
      "context: tensor([26, 33, 31, 10,  0, 25, 53, 57]), target: 58\n"
     ]
    }
   ],
   "source": [
    "torch.manual_seed(1337)\n",
    "batch_size = 4 # how many sequences we will process in parallel, each of these sequences is block_size long\n",
    "block_size = 8 # the length of each sequence\n",
    "\n",
    "def get_batch(split):\n",
    "    data = train_data if split == 'train' else test_data\n",
    "    ix = torch.randint(len(data) - block_size, (batch_size,))\n",
    "    x = torch.stack([data[i:i+block_size] for i in ix])\n",
    "    y = torch.stack([data[i+1:i+block_size+1] for i in ix])\n",
    "    return x, y\n",
    "\n",
    "x, y = get_batch('train')\n",
    "print(x)\n",
    "print(y)\n",
    "for xb in range(batch_size):\n",
    "    for t in range(block_size):\n",
    "        context = x[xb, :t+1]\n",
    "        target = y[xb, t]\n",
    "        print(f'context: {context}, target: {target}')\n"
   ]
  },
  {
   "cell_type": "code",
   "execution_count": 11,
   "metadata": {},
   "outputs": [
    {
     "name": "stdout",
     "output_type": "stream",
     "text": [
      "torch.Size([32, 65])\n",
      "tensor(4.7706, grad_fn=<NllLossBackward0>)\n",
      "\n",
      "pxMHoRFJa!JKmRjtXzfN:CERiC-KuDHoiMIB!o3QHN\n",
      ",SPyiFhRKuxZOMsB-ZJhsucL:wfzLSPyZalylgQUEU cLq,SqV&vW:hhi\n"
     ]
    }
   ],
   "source": [
    "import torch\n",
    "import torch.nn as nn\n",
    "from torch.nn import functional as F\n",
    "torch.manual_seed(1337)\n",
    "\n",
    "class BigramLanguageModel(nn.Module):\n",
    "    def __init__(self, vocab_size):\n",
    "        super().__init__()\n",
    "        # each token directly reads off the logits for the next token in the lookup table\n",
    "        self.token_embedding_table = nn.Embedding(vocab_size, vocab_size)\n",
    "\n",
    "    def forward(self, idx, targets=None):\n",
    "        # idx and targets are both of shape (batch_size, block_size) aka (B, T)\n",
    "        logits = self.token_embedding_table(idx) # Batch x time x channel\n",
    "        if targets is None:\n",
    "            loss = None\n",
    "        else:\n",
    "            # loss = F.cross_entropy(logits.view(-1, vocab_size), targets.view(-1)) # we could do this, but its hard to understand, so\n",
    "            B, T, C = logits.shape\n",
    "            logits = logits.view(B*T, C)\n",
    "            targets = targets.view(B*T)\n",
    "            loss = F.cross_entropy(logits, targets) \n",
    "\n",
    "        return logits, loss\n",
    "\n",
    "    # auto regressive generation\n",
    "    def generate(self, idx, max_new_tokens):\n",
    "        # idx is BxT\n",
    "        for _ in range(max_new_tokens):\n",
    "            logits, loss = self(idx)\n",
    "            # pluck out last column in time dimension, because this is the generated predictions for what comes next\n",
    "            logits = logits[:, -1, :] # keep only the last token for each sequence in the batch aka BxC\n",
    "            probs = F.softmax(logits, dim=-1) # BxC\n",
    "            # sample from the distribution\n",
    "            next_tokens = torch.multinomial(probs, num_samples=1) # Bx1\n",
    "            # append newly generated token to input idx to obtain new input for next generation iteration\n",
    "            idx = torch.cat([idx, next_tokens], dim=1) # Bx(T+1)\n",
    "        return idx\n",
    "\n",
    "m = BigramLanguageModel(vocab_size)\n",
    "x, y = get_batch('train')\n",
    "logits, loss = m(x, y)\n",
    "print(logits.shape)\n",
    "print(loss)\n",
    "\n",
    "idx = torch.zeros((1,1), dtype=torch.long)\n",
    "print(decode(m.generate(idx, max_new_tokens=100)[0].tolist()))"
   ]
  },
  {
   "cell_type": "markdown",
   "metadata": {},
   "source": [
    "### we see a loss of 4.77 which is worse than a uniform random guesser (which is our baseline comparison). and it is unsurprising that the next word guessing is worse because there is no training happening, and we're using only the one previous letter to find the next new one\n",
    "### -ln(1/65) = 4.1743872699 which is the uniform random guesser model loss -> baseline to beat"
   ]
  },
  {
   "cell_type": "code",
   "execution_count": 12,
   "metadata": {},
   "outputs": [
    {
     "data": {
      "text/plain": [
       "[<matplotlib.lines.Line2D at 0x16c57d1d0>]"
      ]
     },
     "execution_count": 12,
     "metadata": {},
     "output_type": "execute_result"
    },
    {
     "data": {
      "image/png": "[encoded data removed]",
      "text/plain": [
       "<Figure size 640x480 with 1 Axes>"
      ]
     },
     "metadata": {},
     "output_type": "display_data"
    }
   ],
   "source": [
    "optimizer = torch.optim.AdamW(m.parameters(), lr=1e-2)\n",
    "batch_size = 32\n",
    "losses = []\n",
    "\n",
    "for _ in range(1000):\n",
    "    # fetch batches\n",
    "    x, y = get_batch('train')\n",
    "\n",
    "    # forward pass\n",
    "    logits, loss = m(x, y)\n",
    "\n",
    "    # set gradients to zero at start of every new epoch\n",
    "    optimizer.zero_grad(set_to_none=True)\n",
    "\n",
    "    # backprop\n",
    "    loss.backward()\n",
    "\n",
    "    # gradient update\n",
    "    optimizer.step()\n",
    "\n",
    "    # track losses to plot loss curves\n",
    "    losses.append(loss.item())\n",
    "    \n",
    "plt.plot(losses)"
   ]
  },
  {
   "cell_type": "code",
   "execution_count": 13,
   "metadata": {},
   "outputs": [
    {
     "name": "stdout",
     "output_type": "stream",
     "text": [
      "\n",
      "Whe hasd sthis; y, ue h bfinpr o ftherenethithenk ispaldore, ch me, D:\n",
      "IZVAn;\n",
      "RLLI le,\n",
      "Froril y al t'e m aur ther t heathous.\n",
      "\n",
      "XFMENoulay, d miof ou lol tou n ilnstoupESqulf my, dmy, sh tin:\n",
      "\n",
      "AY bere ll! Che:\n",
      "rdes inous wiqu and to lAnery gartofoot I \n",
      "NGldof Went pathO:vie it stis he callem Cld tino ghthat h llicoucowhave d memeip'shis!'d ks t ne'seediKIO: athmyo bure had soup,\n",
      "I ort inorvefu y t pl le o m Gre dd ke in itsoom, hy :\n",
      "K:\n",
      "\n",
      "A dsh:\n",
      "Thand om dilicLONous bugo thisty aght ?\n",
      "Ale minchathy\n"
     ]
    }
   ],
   "source": [
    "print(decode(m.generate(idx, max_new_tokens=500)[0].tolist()))"
   ]
  },
  {
   "cell_type": "markdown",
   "metadata": {},
   "source": [
    "# loss decreseases from 4.7 to 2.5 ish. and we see gibberish like outputs still but there is definitely an improvement"
   ]
  },
  {
   "cell_type": "code",
   "execution_count": null,
   "metadata": {},
   "outputs": [],
   "source": []
  },
  {
   "cell_type": "code",
   "execution_count": null,
   "metadata": {},
   "outputs": [],
   "source": []
  },
  {
   "cell_type": "code",
   "execution_count": null,
   "metadata": {},
   "outputs": [],
   "source": []
  }
 ],
 "metadata": {
  "kernelspec": {
   "display_name": "ML-AI",
   "language": "python",
   "name": "python3"
  },
  "language_info": {
   "codemirror_mode": {
    "name": "ipython",
    "version": 3
   },
   "file_extension": ".py",
   "mimetype": "text/x-python",
   "name": "python",
   "nbconvert_exporter": "python",
   "pygments_lexer": "ipython3",
   "version": "3.11.4"
  }
 },
 "nbformat": 4,
 "nbformat_minor": 2
}
